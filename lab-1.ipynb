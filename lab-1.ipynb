{
 "cells": [
  {
   "cell_type": "code",
   "execution_count": 47,
   "metadata": {},
   "outputs": [],
   "source": [
    "!pip install -r requirements.txt"
   ]
  },
  {
   "cell_type": "code",
   "execution_count": 38,
   "metadata": {},
   "outputs": [],
   "source": [
    "import numpy as np\n",
    "import matplotlib as mpl\n",
    "import matplotlib.pyplot as plt\n",
    "import pandas as pd\n",
    "import matlab.engine\n",
    "from cycler import cycler\n",
    "from scipy.optimize import curve_fit\n",
    "\n",
    "%matplotlib inline\n",
    "\n",
    "plt.style.use(\"default\")\n",
    "\n",
    "plt.rc('text', usetex=True)\n",
    "plt.rc('font', family='serif')\n",
    "plt.rc('font', size=14)\n",
    "plt.rc('grid', color='gray')\n",
    "plt.rc('text.latex',preamble=r'\\usepackage[utf8]{inputenc}')\n",
    "plt.rc('text.latex',preamble=r'\\usepackage[russian]{babel}')\n",
    "\n",
    "eng = matlab.engine.start_matlab()\n",
    "colors = eng.eval(\"get(gca,'colororder')\", nargout=1)\n",
    "cols = []\n",
    "for x in zip(np.array(colors)):\n",
    "    cols.append((x[0][0], x[0][1], x[0][2]))\n",
    "mpl.rcParams['axes.prop_cycle'] = cycler('color', cols)\n",
    "\n",
    "data_folder: str = \"data\"\n",
    "vs = np.array(list(filter(lambda x: x != 0, np.arange(-100, 100 + 1, 20))))"
   ]
  },
  {
   "cell_type": "code",
   "execution_count": 39,
   "metadata": {},
   "outputs": [],
   "source": [
    "def pname(i: int, j: int, prefix: str = \"\", format: str = \"svg\"):\n",
    "    return f\"report/images/{prefix}-{i}.{j}.{format}\"\n",
    "\n",
    "\n",
    "def process_file(v: int, datapath: str = \"data\") -> pd.DataFrame: \n",
    "    data = pd.read_csv(f\"{datapath}/data{v}.csv\", delimiter=' ', names=['t', 'ang', 'w'])\n",
    "    data['ang'] = np.deg2rad(data['ang'])\n",
    "    if v > 0:\n",
    "        data['ang'] = data['ang'] - data['ang'].min()\n",
    "    elif v < 0:\n",
    "        data['ang'] = data['ang'] - data['ang'].max()\n",
    "    data['w'] = np.deg2rad(data['w'])\n",
    "    return data\n",
    "\n",
    "\n",
    "def fit(f, data: pd.DataFrame, prop: str):\n",
    "    x = data.t\n",
    "    y = data[prop]\n",
    "    popt, _ = curve_fit(f, x, y)\n",
    "    return popt"
   ]
  },
  {
   "cell_type": "code",
   "execution_count": 40,
   "metadata": {},
   "outputs": [],
   "source": [
    "data = [process_file(v) for v in vs]\n",
    "\n",
    "theta = lambda t, k, T_m: k * v * (t - T_m * (1 - np.exp(-t / T_m)))\n",
    "omega = lambda t, k, T_m: k * v * (1 - np.exp(-t / T_m))"
   ]
  },
  {
   "cell_type": "markdown",
   "metadata": {},
   "source": [
    "# Построение экспериментальных графиков"
   ]
  },
  {
   "cell_type": "code",
   "execution_count": 41,
   "metadata": {},
   "outputs": [
    {
     "data": {
      "text/plain": [
       "<Figure size 640x480 with 0 Axes>"
      ]
     },
     "metadata": {},
     "output_type": "display_data"
    }
   ],
   "source": [
    "for i, d, v in zip(range(1, len(vs) + 1), data, vs):\n",
    "    plt.plot(d.t, d.ang, label=r\"$\\theta_{exp}$\")\n",
    "\n",
    "    plt.grid(alpha=0.15)\n",
    "    plt.xlabel(r\"$t,\\ s$\")\n",
    "    plt.ylabel(r\"$\\theta,\\ rad$\")\n",
    "    plt.title(rf\"$V = {v}\\%$\")\n",
    "    plt.xlim(left=0)\n",
    "    plt.savefig(f\"report/images/ang{v}-plot-exp.png\", dpi=500)\n",
    "    plt.clf()\n",
    "\n",
    "    plt.plot(d.t, d.w, label=r'$\\omega_{exp}$')\n",
    "\n",
    "\n",
    "    plt.grid(alpha=0.15)\n",
    "    plt.xlabel(r\"$t,\\ s$\")\n",
    "    plt.ylabel(r\"$\\omega,\\ rad/s$\")\n",
    "    plt.title(rf\"$V = {v}\\%$\")\n",
    "    plt.xlim(left=0)\n",
    "    plt.savefig(f\"report/images/w{v}-plot-exp.png\", dpi=500)\n",
    "    plt.clf()"
   ]
  },
  {
   "cell_type": "markdown",
   "metadata": {},
   "source": [
    "# Построение графиков с апрроксимацией"
   ]
  },
  {
   "cell_type": "code",
   "execution_count": 43,
   "metadata": {},
   "outputs": [
    {
     "data": {
      "text/plain": [
       "<Figure size 640x480 with 0 Axes>"
      ]
     },
     "metadata": {},
     "output_type": "display_data"
    }
   ],
   "source": [
    "ks_ang, ks_w, Tms_ang, Tms_w = [[] for _ in range(4)]\n",
    "for d, v in zip(data, vs):\n",
    "    # approximate theta\n",
    "    k_ang, Tm_ang = fit(theta, d, \"ang\")\n",
    "    ks_ang.append(k_ang)\n",
    "    Tms_ang.append(Tm_ang)\n",
    "    \n",
    "    # approximate w\n",
    "    k_w, Tm_w = fit(omega, d, \"w\")\n",
    "    ks_w.append(k_w)\n",
    "    Tms_w.append(Tm_w)\n",
    "    \n",
    "# params for simulink modelling\n",
    "model_k = np.mean(ks_ang)\n",
    "model_Tm = np.mean(Tms_ang)\n",
    "\n",
    "for i, d, v in zip(range(len(vs)), data, vs):\n",
    "    # plot experimental data\n",
    "    plt.plot(d.t, d.ang, label=r\"$\\theta_{exp}$\")\n",
    "\n",
    "    # plot approximation\n",
    "    x_apr = np.linspace(0, 1, 1000)\n",
    "    plt.plot(\n",
    "        x_apr,\n",
    "        theta(x_apr, ks_ang[i], Tms_ang[i]),\n",
    "        label=r\"$\\theta_{approx}$\",\n",
    "        linestyle=\"--\",\n",
    "        c='r'\n",
    "    )\n",
    "    \n",
    "\n",
    "    plt.grid(alpha=0.15)\n",
    "    plt.xlabel(r\"$t,\\ s$\")\n",
    "    plt.ylabel(r\"$\\theta,\\ rad$\")\n",
    "    plt.title(rf\"$V = {v}\\%$\")\n",
    "    plt.xlim(left=0)\n",
    "    plt.legend()\n",
    "    plt.savefig(f\"report/images/ang{v}-plot-approx.png\", dpi=500)\n",
    "    plt.clf()\n",
    "\n",
    "    plt.plot(d.t, d.w, label=r'$\\omega_{exp}$')\n",
    "    \n",
    "    plt.plot(\n",
    "        x_apr,\n",
    "        omega(x_apr, ks_w[i], Tms_w[i]),\n",
    "        label=r\"$\\omega_{approx}$\",\n",
    "        linestyle=\"--\",\n",
    "        c='r'\n",
    "    )\n",
    "\n",
    "\n",
    "    plt.grid(alpha=0.15)\n",
    "    plt.xlabel(r\"$t,\\ s$\")\n",
    "    plt.ylabel(r\"$\\omega,\\ rad/s$\")\n",
    "    plt.title(rf\"$V = {v}\\%$\")\n",
    "    plt.xlim(left=0)\n",
    "    plt.legend()\n",
    "    plt.savefig(f\"report/images/w{v}-plot-approx.png\", dpi=500)\n",
    "    plt.clf()"
   ]
  },
  {
   "cell_type": "markdown",
   "metadata": {},
   "source": [
    "# Построение финальных графиков"
   ]
  },
  {
   "cell_type": "code",
   "execution_count": 44,
   "metadata": {},
   "outputs": [
    {
     "data": {
      "text/plain": [
       "<Figure size 640x480 with 0 Axes>"
      ]
     },
     "metadata": {},
     "output_type": "display_data"
    }
   ],
   "source": [
    "for i, d, v in zip(range(len(vs)), data, vs):\n",
    "    # plot experimental theta\n",
    "    plt.plot(d.t, d.ang, label=r\"$\\theta_{exp}$\")\n",
    "\n",
    "    # plot approximation theta\n",
    "    x_apr = np.linspace(0, 1, 1000)\n",
    "    plt.plot(\n",
    "        x_apr,\n",
    "        theta(x_apr, ks_ang[i], Tms_ang[i]),\n",
    "        label=r\"$\\theta_{approx}$\",\n",
    "        linestyle=\"--\",\n",
    "        c='r'\n",
    "    )\n",
    "    \n",
    "    # modelling\n",
    "    eng.workspace[\"U_pr\"] = v\n",
    "    eng.workspace[\"k\"] = model_k\n",
    "    eng.workspace[\"T_m\"] = model_Tm\n",
    "    eng.eval(f\"out = sim('model.slx', 'StopTime', '1', 'FixedStep', '0.001');\", nargout=0)\n",
    "    thout = np.array(eng.eval(\"out.theta.data\", nargout=1))\n",
    "    tout = np.array(eng.eval(\"out.theta.time\", nargout=1))\n",
    "    wout = np.array(eng.eval(\"out.omega.data\", nargout=1))\n",
    "    \n",
    "    # plot model theta\n",
    "    plt.plot(tout, thout, label=r'$\\theta_{model}$', linestyle='-.', c='g')\n",
    "\n",
    "    # style and save theta plot\n",
    "    plt.grid(alpha=0.15)\n",
    "    plt.xlabel(r\"$t,\\ s$\")\n",
    "    plt.ylabel(r\"$\\theta,\\ rad$\")\n",
    "    plt.title(rf\"$V = {v}\\%$\")\n",
    "    plt.xlim(left=0)\n",
    "    plt.legend()\n",
    "    plt.savefig(f\"report/images/ang{v}-plot-fin.png\", dpi=500)\n",
    "    plt.show()\n",
    "    plt.clf()\n",
    "\n",
    "    # plot exprimental omega\n",
    "    plt.plot(d.t, d.w, label=r'$\\omega_{exp}$')\n",
    "    \n",
    "    # plot approximation omega\n",
    "    plt.plot(\n",
    "        x_apr,\n",
    "        omega(x_apr, ks_w[i], Tms_w[i]),\n",
    "        label=r\"$\\omega_{approx}$\",\n",
    "        linestyle=\"--\",\n",
    "        c='r'\n",
    "    )\n",
    "    \n",
    "    # plot model omega\n",
    "    plt.plot(tout, wout, label=r'$\\omega_{model}$', linestyle='-.', c='g')\n",
    "\n",
    "    # style and save omega plot\n",
    "    plt.grid(alpha=0.15)\n",
    "    plt.xlabel(r\"$t,\\ s$\")\n",
    "    plt.ylabel(r\"$\\omega,\\ rad/s$\")\n",
    "    plt.title(rf\"$V = {v}\\%$\")\n",
    "    plt.xlim(left=0)\n",
    "    plt.legend()\n",
    "    plt.savefig(f\"report/images/w{v}-plot-fin.png\", dpi=500)\n",
    "    plt.show()\n",
    "    plt.clf()\n"
   ]
  },
  {
   "cell_type": "code",
   "execution_count": 45,
   "metadata": {},
   "outputs": [
    {
     "data": {
      "image/png": "[encoded data removed]",
      "text/plain": [
       "<Figure size 640x480 with 1 Axes>"
      ]
     },
     "metadata": {},
     "output_type": "display_data"
    }
   ],
   "source": [
    "w_nls = [v * k for v, k in zip(vs, ks_w)]\n",
    "plt.title(r\"$\\omega_{\\textrm{уст}}(U_{\\%})$\")\n",
    "plt.plot(vs, w_nls)\n",
    "plt.grid()\n",
    "plt.xlim((-100,100))\n",
    "plt.xlabel(r\"$U,\\ \\%$\")\n",
    "plt.ylabel(r\"$\\omega_{\\textrm{уст}},\\ rad/s$\")\n",
    "plt.scatter(vs,w_nls)\n",
    "plt.savefig(\"report/images/w-u-plot.png\",dpi=500)"
   ]
  },
  {
   "cell_type": "code",
   "execution_count": 37,
   "metadata": {},
   "outputs": [
    {
     "data": {
      "image/png": "[encoded data removed]",
      "text/plain": [
       "<Figure size 640x480 with 1 Axes>"
      ]
     },
     "metadata": {},
     "output_type": "display_data"
    }
   ],
   "source": [
    "plt.title(r\"$T_m(U_{\\%})$\")\n",
    "plt.plot(vs, Tms_w)\n",
    "plt.scatter(vs,Tms_w)\n",
    "plt.grid()\n",
    "plt.xlim((-100,100))\n",
    "plt.ylim(top=0.13)\n",
    "plt.xlabel(r\"$U,\\ \\%$\")\n",
    "plt.ylabel(r\"$T_m$\")\n",
    "plt.savefig(\"report/images/Tm-u-plot.png\",dpi=500)"
   ]
  }
 ],
 "metadata": {
  "kernelspec": {
   "display_name": "Python 3",
   "language": "python",
   "name": "python3"
  },
  "language_info": {
   "codemirror_mode": {
    "name": "ipython",
    "version": 3
   },
   "file_extension": ".py",
   "mimetype": "text/x-python",
   "name": "python",
   "nbconvert_exporter": "python",
   "pygments_lexer": "ipython3",
   "version": "3.11.0"
  }
 },
 "nbformat": 4,
 "nbformat_minor": 2
}
